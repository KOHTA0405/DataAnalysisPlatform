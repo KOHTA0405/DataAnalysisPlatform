{
 "cells": [
  {
   "attachments": {},
   "cell_type": "markdown",
   "metadata": {},
   "source": [
    "[参考記事](https://qiita.com/koji_mats/items/0533fbdeb9012a7e1494#appendix-prefect%E3%82%92k8s%E3%81%B8%E3%83%87%E3%83%97%E3%83%AD%E3%82%A4%E3%81%99%E3%82%8B%E6%89%8B%E9%A0%86)\n"
   ]
  },
  {
   "attachments": {},
   "cell_type": "markdown",
   "metadata": {},
   "source": [
    "# メモ\n",
    "\n",
    "- flow や task にはユニークな名前を付ける必要がある(そうでないと警告発生)\n"
   ]
  },
  {
   "attachments": {},
   "cell_type": "markdown",
   "metadata": {},
   "source": [
    "# 1. Hello World!!\n"
   ]
  },
  {
   "cell_type": "code",
   "execution_count": null,
   "metadata": {},
   "outputs": [],
   "source": [
    "# ver1での書き方\n",
    "# 2系で実施しているので、実行エラー\n",
    "# from prefect import Flow, task\n",
    "\n",
    "# @task\n",
    "# def get_name():\n",
    "#     return \"world\"\n",
    "\n",
    "# @task\n",
    "# def hello(who):\n",
    "#     print(\"hello, {}!\".format(who))\n",
    "\n",
    "# with Flow(\"HelloWorld\") as flow:\n",
    "#     who = get_name()\n",
    "#     hello_world = hello(who)\n",
    "\n",
    "# flow.run()"
   ]
  },
  {
   "cell_type": "code",
   "execution_count": 1,
   "metadata": {},
   "outputs": [
    {
     "data": {
      "text/html": [
       "<pre style=\"white-space:pre;overflow-x:auto;line-height:normal;font-family:Menlo,'DejaVu Sans Mono',consolas,'Courier New',monospace\">08:36:58.321 | <span style=\"color: #008080; text-decoration-color: #008080\">INFO</span>    | prefect.engine - Created flow run<span style=\"color: #800080; text-decoration-color: #800080\"> 'excellent-falcon'</span> for flow<span style=\"color: #800080; text-decoration-color: #800080; font-weight: bold\"> 'greeting flow'</span>\n",
       "</pre>\n"
      ],
      "text/plain": [
       "08:36:58.321 | \u001b[36mINFO\u001b[0m    | prefect.engine - Created flow run\u001b[35m 'excellent-falcon'\u001b[0m for flow\u001b[1;35m 'greeting flow'\u001b[0m\n"
      ]
     },
     "metadata": {},
     "output_type": "display_data"
    },
    {
     "data": {
      "text/html": [
       "<pre style=\"white-space:pre;overflow-x:auto;line-height:normal;font-family:Menlo,'DejaVu Sans Mono',consolas,'Courier New',monospace\">08:36:58.365 | <span style=\"color: #008080; text-decoration-color: #008080\">INFO</span>    | Flow run<span style=\"color: #800080; text-decoration-color: #800080\"> 'excellent-falcon'</span> - Created task run 'get name task-0' for task 'get name task'\n",
       "</pre>\n"
      ],
      "text/plain": [
       "08:36:58.365 | \u001b[36mINFO\u001b[0m    | Flow run\u001b[35m 'excellent-falcon'\u001b[0m - Created task run 'get name task-0' for task 'get name task'\n"
      ]
     },
     "metadata": {},
     "output_type": "display_data"
    },
    {
     "data": {
      "text/html": [
       "<pre style=\"white-space:pre;overflow-x:auto;line-height:normal;font-family:Menlo,'DejaVu Sans Mono',consolas,'Courier New',monospace\">08:36:58.366 | <span style=\"color: #008080; text-decoration-color: #008080\">INFO</span>    | Flow run<span style=\"color: #800080; text-decoration-color: #800080\"> 'excellent-falcon'</span> - Executing 'get name task-0' immediately...\n",
       "</pre>\n"
      ],
      "text/plain": [
       "08:36:58.366 | \u001b[36mINFO\u001b[0m    | Flow run\u001b[35m 'excellent-falcon'\u001b[0m - Executing 'get name task-0' immediately...\n"
      ]
     },
     "metadata": {},
     "output_type": "display_data"
    },
    {
     "data": {
      "text/html": [
       "<pre style=\"white-space:pre;overflow-x:auto;line-height:normal;font-family:Menlo,'DejaVu Sans Mono',consolas,'Courier New',monospace\">08:36:58.408 | <span style=\"color: #008080; text-decoration-color: #008080\">INFO</span>    | Task run 'get name task-0' - Finished in state <span style=\"color: #008000; text-decoration-color: #008000\">Completed</span>()\n",
       "</pre>\n"
      ],
      "text/plain": [
       "08:36:58.408 | \u001b[36mINFO\u001b[0m    | Task run 'get name task-0' - Finished in state \u001b[32mCompleted\u001b[0m()\n"
      ]
     },
     "metadata": {},
     "output_type": "display_data"
    },
    {
     "data": {
      "text/html": [
       "<pre style=\"white-space:pre;overflow-x:auto;line-height:normal;font-family:Menlo,'DejaVu Sans Mono',consolas,'Courier New',monospace\">08:36:58.422 | <span style=\"color: #008080; text-decoration-color: #008080\">INFO</span>    | Flow run<span style=\"color: #800080; text-decoration-color: #800080\"> 'excellent-falcon'</span> - Created task run 'hello task-0' for task 'hello task'\n",
       "</pre>\n"
      ],
      "text/plain": [
       "08:36:58.422 | \u001b[36mINFO\u001b[0m    | Flow run\u001b[35m 'excellent-falcon'\u001b[0m - Created task run 'hello task-0' for task 'hello task'\n"
      ]
     },
     "metadata": {},
     "output_type": "display_data"
    },
    {
     "data": {
      "text/html": [
       "<pre style=\"white-space:pre;overflow-x:auto;line-height:normal;font-family:Menlo,'DejaVu Sans Mono',consolas,'Courier New',monospace\">08:36:58.423 | <span style=\"color: #008080; text-decoration-color: #008080\">INFO</span>    | Flow run<span style=\"color: #800080; text-decoration-color: #800080\"> 'excellent-falcon'</span> - Executing 'hello task-0' immediately...\n",
       "</pre>\n"
      ],
      "text/plain": [
       "08:36:58.423 | \u001b[36mINFO\u001b[0m    | Flow run\u001b[35m 'excellent-falcon'\u001b[0m - Executing 'hello task-0' immediately...\n"
      ]
     },
     "metadata": {},
     "output_type": "display_data"
    },
    {
     "name": "stdout",
     "output_type": "stream",
     "text": [
      "Hello, World!\n"
     ]
    },
    {
     "data": {
      "text/html": [
       "<pre style=\"white-space:pre;overflow-x:auto;line-height:normal;font-family:Menlo,'DejaVu Sans Mono',consolas,'Courier New',monospace\">08:36:58.467 | <span style=\"color: #008080; text-decoration-color: #008080\">INFO</span>    | Task run 'hello task-0' - Finished in state <span style=\"color: #008000; text-decoration-color: #008000\">Completed</span>()\n",
       "</pre>\n"
      ],
      "text/plain": [
       "08:36:58.467 | \u001b[36mINFO\u001b[0m    | Task run 'hello task-0' - Finished in state \u001b[32mCompleted\u001b[0m()\n"
      ]
     },
     "metadata": {},
     "output_type": "display_data"
    },
    {
     "data": {
      "text/html": [
       "<pre style=\"white-space:pre;overflow-x:auto;line-height:normal;font-family:Menlo,'DejaVu Sans Mono',consolas,'Courier New',monospace\">08:36:58.481 | <span style=\"color: #008080; text-decoration-color: #008080\">INFO</span>    | Flow run<span style=\"color: #800080; text-decoration-color: #800080\"> 'excellent-falcon'</span> - Finished in state <span style=\"color: #008000; text-decoration-color: #008000\">Completed</span>('All states completed.')\n",
       "</pre>\n"
      ],
      "text/plain": [
       "08:36:58.481 | \u001b[36mINFO\u001b[0m    | Flow run\u001b[35m 'excellent-falcon'\u001b[0m - Finished in state \u001b[32mCompleted\u001b[0m('All states completed.')\n"
      ]
     },
     "metadata": {},
     "output_type": "display_data"
    }
   ],
   "source": [
    "# 記事の内容を2系で書き換え\n",
    "from prefect import task, flow\n",
    "\n",
    "\n",
    "@task(name=\"get name task\")\n",
    "def get_name():\n",
    "    return \"World\"\n",
    "\n",
    "\n",
    "@task(name=\"hello task\")\n",
    "def hello(who):\n",
    "    print(f\"Hello, {who}!\")\n",
    "\n",
    "\n",
    "@flow(name=\"greeting flow\")\n",
    "def greeting_flow():\n",
    "    who = get_name()\n",
    "    hello(who)\n",
    "\n",
    "\n",
    "if __name__ == \"__main__\":\n",
    "    greeting_flow()"
   ]
  },
  {
   "attachments": {},
   "cell_type": "markdown",
   "metadata": {},
   "source": [
    "# 2. パラメータ化\n",
    "\n",
    "- flow 実行時にパラメータを渡して、タスク内で使用する\n"
   ]
  },
  {
   "cell_type": "code",
   "execution_count": 4,
   "metadata": {},
   "outputs": [
    {
     "name": "stderr",
     "output_type": "stream",
     "text": [
      "/Users/kohta/workspace/prefect/venv/lib/python3.10/site-packages/prefect/tasks.py:298: UserWarning: A task named 'get name task' and defined at '/var/folders/q5/s5mcbmt95hd29sp3b9xmr2580000gn/T/ipykernel_57820/1155948213.py:4' conflicts with another task. Consider specifying a unique `name` parameter in the task definition:\n",
      "\n",
      " `@task(name='my_unique_name', ...)`\n",
      "  warnings.warn(\n",
      "/Users/kohta/workspace/prefect/venv/lib/python3.10/site-packages/prefect/tasks.py:298: UserWarning: A task named 'hello task' and defined at '/var/folders/q5/s5mcbmt95hd29sp3b9xmr2580000gn/T/ipykernel_57820/1155948213.py:8' conflicts with another task. Consider specifying a unique `name` parameter in the task definition:\n",
      "\n",
      " `@task(name='my_unique_name', ...)`\n",
      "  warnings.warn(\n",
      "/Users/kohta/workspace/prefect/venv/lib/python3.10/site-packages/prefect/flows.py:244: UserWarning: A flow named 'greeting flow' and defined at '/var/folders/q5/s5mcbmt95hd29sp3b9xmr2580000gn/T/ipykernel_57820/1155948213.py:12' conflicts with another flow. Consider specifying a unique `name` parameter in the flow definition:\n",
      "\n",
      " `@flow(name='my_unique_name', ...)`\n",
      "  warnings.warn(\n"
     ]
    },
    {
     "data": {
      "text/html": [
       "<pre style=\"white-space:pre;overflow-x:auto;line-height:normal;font-family:Menlo,'DejaVu Sans Mono',consolas,'Courier New',monospace\">09:23:58.012 | <span style=\"color: #008080; text-decoration-color: #008080\">INFO</span>    | prefect.engine - Created flow run<span style=\"color: #800080; text-decoration-color: #800080\"> 'hidden-salmon'</span> for flow<span style=\"color: #800080; text-decoration-color: #800080; font-weight: bold\"> 'greeting flow'</span>\n",
       "</pre>\n"
      ],
      "text/plain": [
       "09:23:58.012 | \u001b[36mINFO\u001b[0m    | prefect.engine - Created flow run\u001b[35m 'hidden-salmon'\u001b[0m for flow\u001b[1;35m 'greeting flow'\u001b[0m\n"
      ]
     },
     "metadata": {},
     "output_type": "display_data"
    },
    {
     "data": {
      "text/html": [
       "<pre style=\"white-space:pre;overflow-x:auto;line-height:normal;font-family:Menlo,'DejaVu Sans Mono',consolas,'Courier New',monospace\">09:23:58.083 | <span style=\"color: #008080; text-decoration-color: #008080\">INFO</span>    | Flow run<span style=\"color: #800080; text-decoration-color: #800080\"> 'hidden-salmon'</span> - Created task run 'get name task-0' for task 'get name task'\n",
       "</pre>\n"
      ],
      "text/plain": [
       "09:23:58.083 | \u001b[36mINFO\u001b[0m    | Flow run\u001b[35m 'hidden-salmon'\u001b[0m - Created task run 'get name task-0' for task 'get name task'\n"
      ]
     },
     "metadata": {},
     "output_type": "display_data"
    },
    {
     "data": {
      "text/html": [
       "<pre style=\"white-space:pre;overflow-x:auto;line-height:normal;font-family:Menlo,'DejaVu Sans Mono',consolas,'Courier New',monospace\">09:23:58.084 | <span style=\"color: #008080; text-decoration-color: #008080\">INFO</span>    | Flow run<span style=\"color: #800080; text-decoration-color: #800080\"> 'hidden-salmon'</span> - Executing 'get name task-0' immediately...\n",
       "</pre>\n"
      ],
      "text/plain": [
       "09:23:58.084 | \u001b[36mINFO\u001b[0m    | Flow run\u001b[35m 'hidden-salmon'\u001b[0m - Executing 'get name task-0' immediately...\n"
      ]
     },
     "metadata": {},
     "output_type": "display_data"
    },
    {
     "data": {
      "text/html": [
       "<pre style=\"white-space:pre;overflow-x:auto;line-height:normal;font-family:Menlo,'DejaVu Sans Mono',consolas,'Courier New',monospace\">09:23:58.130 | <span style=\"color: #008080; text-decoration-color: #008080\">INFO</span>    | Task run 'get name task-0' - Finished in state <span style=\"color: #008000; text-decoration-color: #008000\">Completed</span>()\n",
       "</pre>\n"
      ],
      "text/plain": [
       "09:23:58.130 | \u001b[36mINFO\u001b[0m    | Task run 'get name task-0' - Finished in state \u001b[32mCompleted\u001b[0m()\n"
      ]
     },
     "metadata": {},
     "output_type": "display_data"
    },
    {
     "data": {
      "text/html": [
       "<pre style=\"white-space:pre;overflow-x:auto;line-height:normal;font-family:Menlo,'DejaVu Sans Mono',consolas,'Courier New',monospace\">09:23:58.141 | <span style=\"color: #008080; text-decoration-color: #008080\">INFO</span>    | Flow run<span style=\"color: #800080; text-decoration-color: #800080\"> 'hidden-salmon'</span> - Created task run 'hello task-0' for task 'hello task'\n",
       "</pre>\n"
      ],
      "text/plain": [
       "09:23:58.141 | \u001b[36mINFO\u001b[0m    | Flow run\u001b[35m 'hidden-salmon'\u001b[0m - Created task run 'hello task-0' for task 'hello task'\n"
      ]
     },
     "metadata": {},
     "output_type": "display_data"
    },
    {
     "data": {
      "text/html": [
       "<pre style=\"white-space:pre;overflow-x:auto;line-height:normal;font-family:Menlo,'DejaVu Sans Mono',consolas,'Courier New',monospace\">09:23:58.142 | <span style=\"color: #008080; text-decoration-color: #008080\">INFO</span>    | Flow run<span style=\"color: #800080; text-decoration-color: #800080\"> 'hidden-salmon'</span> - Executing 'hello task-0' immediately...\n",
       "</pre>\n"
      ],
      "text/plain": [
       "09:23:58.142 | \u001b[36mINFO\u001b[0m    | Flow run\u001b[35m 'hidden-salmon'\u001b[0m - Executing 'hello task-0' immediately...\n"
      ]
     },
     "metadata": {},
     "output_type": "display_data"
    },
    {
     "name": "stdout",
     "output_type": "stream",
     "text": [
      "Hello, KOH!\n"
     ]
    },
    {
     "data": {
      "text/html": [
       "<pre style=\"white-space:pre;overflow-x:auto;line-height:normal;font-family:Menlo,'DejaVu Sans Mono',consolas,'Courier New',monospace\">09:23:58.187 | <span style=\"color: #008080; text-decoration-color: #008080\">INFO</span>    | Task run 'hello task-0' - Finished in state <span style=\"color: #008000; text-decoration-color: #008000\">Completed</span>()\n",
       "</pre>\n"
      ],
      "text/plain": [
       "09:23:58.187 | \u001b[36mINFO\u001b[0m    | Task run 'hello task-0' - Finished in state \u001b[32mCompleted\u001b[0m()\n"
      ]
     },
     "metadata": {},
     "output_type": "display_data"
    },
    {
     "data": {
      "text/html": [
       "<pre style=\"white-space:pre;overflow-x:auto;line-height:normal;font-family:Menlo,'DejaVu Sans Mono',consolas,'Courier New',monospace\">09:23:58.204 | <span style=\"color: #008080; text-decoration-color: #008080\">INFO</span>    | Flow run<span style=\"color: #800080; text-decoration-color: #800080\"> 'hidden-salmon'</span> - Finished in state <span style=\"color: #008000; text-decoration-color: #008000\">Completed</span>('All states completed.')\n",
       "</pre>\n"
      ],
      "text/plain": [
       "09:23:58.204 | \u001b[36mINFO\u001b[0m    | Flow run\u001b[35m 'hidden-salmon'\u001b[0m - Finished in state \u001b[32mCompleted\u001b[0m('All states completed.')\n"
      ]
     },
     "metadata": {},
     "output_type": "display_data"
    }
   ],
   "source": [
    "# \"name\"という引数をflow側で用意して、taskに渡して実行する\n",
    "from prefect import task, flow\n",
    "\n",
    "\n",
    "@task(name=\"get name task\")\n",
    "def get_name(name):\n",
    "    return name\n",
    "\n",
    "\n",
    "@task(name=\"hello task\")\n",
    "def hello(who):\n",
    "    print(f\"Hello, {who}!\")\n",
    "\n",
    "\n",
    "@flow(name=\"greeting flow\")\n",
    "def greeting_flow(name):\n",
    "    who = get_name(name)\n",
    "    hello(who)\n",
    "\n",
    "\n",
    "if __name__ == \"__main__\":\n",
    "    greeting_flow(\"KOH\")"
   ]
  },
  {
   "attachments": {},
   "cell_type": "markdown",
   "metadata": {},
   "source": [
    "# 3. 明示的な依存関係の定義\n",
    "\n",
    "- task1 -> task2 の順に実行したいようなケース\n",
    "  - `タスクの返り値を次のタスクの引数に指定すること`でタスク間の依存関係を構成してきました。\n",
    "  - 一方、`タスク間でデータの受け渡しが無い場合`でも依存関係を構成したいときは、下流タスクが依存する上流タスクを明示的に指定してあげる必要があります。\n"
   ]
  },
  {
   "cell_type": "code",
   "execution_count": null,
   "metadata": {},
   "outputs": [],
   "source": [
    "# def my_flow():\n",
    "#     x = task_1.submit()\n",
    "#     # task 2 will wait for task_1 to complete\n",
    "#     # y = task_2.submit(wait_for=[x])"
   ]
  },
  {
   "cell_type": "code",
   "execution_count": 3,
   "metadata": {},
   "outputs": [
    {
     "data": {
      "text/html": [
       "<pre style=\"white-space:pre;overflow-x:auto;line-height:normal;font-family:Menlo,'DejaVu Sans Mono',consolas,'Courier New',monospace\">08:47:27.636 | <span style=\"color: #008080; text-decoration-color: #008080\">INFO</span>    | prefect.engine - Created flow run<span style=\"color: #800080; text-decoration-color: #800080\"> 'laughing-millipede'</span> for flow<span style=\"color: #800080; text-decoration-color: #800080; font-weight: bold\"> 'hello world flow'</span>\n",
       "</pre>\n"
      ],
      "text/plain": [
       "08:47:27.636 | \u001b[36mINFO\u001b[0m    | prefect.engine - Created flow run\u001b[35m 'laughing-millipede'\u001b[0m for flow\u001b[1;35m 'hello world flow'\u001b[0m\n"
      ]
     },
     "metadata": {},
     "output_type": "display_data"
    },
    {
     "data": {
      "text/html": [
       "<pre style=\"white-space:pre;overflow-x:auto;line-height:normal;font-family:Menlo,'DejaVu Sans Mono',consolas,'Courier New',monospace\">08:47:27.676 | <span style=\"color: #008080; text-decoration-color: #008080\">INFO</span>    | Flow run<span style=\"color: #800080; text-decoration-color: #800080\"> 'laughing-millipede'</span> - Created task run 'hello task-0' for task 'hello task'\n",
       "</pre>\n"
      ],
      "text/plain": [
       "08:47:27.676 | \u001b[36mINFO\u001b[0m    | Flow run\u001b[35m 'laughing-millipede'\u001b[0m - Created task run 'hello task-0' for task 'hello task'\n"
      ]
     },
     "metadata": {},
     "output_type": "display_data"
    },
    {
     "data": {
      "text/html": [
       "<pre style=\"white-space:pre;overflow-x:auto;line-height:normal;font-family:Menlo,'DejaVu Sans Mono',consolas,'Courier New',monospace\">08:47:27.677 | <span style=\"color: #008080; text-decoration-color: #008080\">INFO</span>    | Flow run<span style=\"color: #800080; text-decoration-color: #800080\"> 'laughing-millipede'</span> - Submitted task run 'hello task-0' for execution.\n",
       "</pre>\n"
      ],
      "text/plain": [
       "08:47:27.677 | \u001b[36mINFO\u001b[0m    | Flow run\u001b[35m 'laughing-millipede'\u001b[0m - Submitted task run 'hello task-0' for execution.\n"
      ]
     },
     "metadata": {},
     "output_type": "display_data"
    },
    {
     "data": {
      "text/html": [
       "<pre style=\"white-space:pre;overflow-x:auto;line-height:normal;font-family:Menlo,'DejaVu Sans Mono',consolas,'Courier New',monospace\">08:47:27.691 | <span style=\"color: #008080; text-decoration-color: #008080\">INFO</span>    | Flow run<span style=\"color: #800080; text-decoration-color: #800080\"> 'laughing-millipede'</span> - Created task run 'world task-0' for task 'world task'\n",
       "</pre>\n"
      ],
      "text/plain": [
       "08:47:27.691 | \u001b[36mINFO\u001b[0m    | Flow run\u001b[35m 'laughing-millipede'\u001b[0m - Created task run 'world task-0' for task 'world task'\n"
      ]
     },
     "metadata": {},
     "output_type": "display_data"
    },
    {
     "data": {
      "text/html": [
       "<pre style=\"white-space:pre;overflow-x:auto;line-height:normal;font-family:Menlo,'DejaVu Sans Mono',consolas,'Courier New',monospace\">08:47:27.692 | <span style=\"color: #008080; text-decoration-color: #008080\">INFO</span>    | Flow run<span style=\"color: #800080; text-decoration-color: #800080\"> 'laughing-millipede'</span> - Submitted task run 'world task-0' for execution.\n",
       "</pre>\n"
      ],
      "text/plain": [
       "08:47:27.692 | \u001b[36mINFO\u001b[0m    | Flow run\u001b[35m 'laughing-millipede'\u001b[0m - Submitted task run 'world task-0' for execution.\n"
      ]
     },
     "metadata": {},
     "output_type": "display_data"
    },
    {
     "name": "stdout",
     "output_type": "stream",
     "text": [
      "Hello\n"
     ]
    },
    {
     "data": {
      "text/html": [
       "<pre style=\"white-space:pre;overflow-x:auto;line-height:normal;font-family:Menlo,'DejaVu Sans Mono',consolas,'Courier New',monospace\">08:47:27.728 | <span style=\"color: #008080; text-decoration-color: #008080\">INFO</span>    | Task run 'hello task-0' - Finished in state <span style=\"color: #008000; text-decoration-color: #008000\">Completed</span>()\n",
       "</pre>\n"
      ],
      "text/plain": [
       "08:47:27.728 | \u001b[36mINFO\u001b[0m    | Task run 'hello task-0' - Finished in state \u001b[32mCompleted\u001b[0m()\n"
      ]
     },
     "metadata": {},
     "output_type": "display_data"
    },
    {
     "name": "stdout",
     "output_type": "stream",
     "text": [
      "World!!\n"
     ]
    },
    {
     "data": {
      "text/html": [
       "<pre style=\"white-space:pre;overflow-x:auto;line-height:normal;font-family:Menlo,'DejaVu Sans Mono',consolas,'Courier New',monospace\">08:47:27.764 | <span style=\"color: #008080; text-decoration-color: #008080\">INFO</span>    | Task run 'world task-0' - Finished in state <span style=\"color: #008000; text-decoration-color: #008000\">Completed</span>()\n",
       "</pre>\n"
      ],
      "text/plain": [
       "08:47:27.764 | \u001b[36mINFO\u001b[0m    | Task run 'world task-0' - Finished in state \u001b[32mCompleted\u001b[0m()\n"
      ]
     },
     "metadata": {},
     "output_type": "display_data"
    },
    {
     "data": {
      "text/html": [
       "<pre style=\"white-space:pre;overflow-x:auto;line-height:normal;font-family:Menlo,'DejaVu Sans Mono',consolas,'Courier New',monospace\">08:47:27.780 | <span style=\"color: #008080; text-decoration-color: #008080\">INFO</span>    | Flow run<span style=\"color: #800080; text-decoration-color: #800080\"> 'laughing-millipede'</span> - Finished in state <span style=\"color: #008000; text-decoration-color: #008000\">Completed</span>('All states completed.')\n",
       "</pre>\n"
      ],
      "text/plain": [
       "08:47:27.780 | \u001b[36mINFO\u001b[0m    | Flow run\u001b[35m 'laughing-millipede'\u001b[0m - Finished in state \u001b[32mCompleted\u001b[0m('All states completed.')\n"
      ]
     },
     "metadata": {},
     "output_type": "display_data"
    }
   ],
   "source": [
    "from prefect import task, flow\n",
    "\n",
    "\n",
    "@task(name=\"hello task\")\n",
    "def task1():\n",
    "    print(\"Hello\")\n",
    "\n",
    "\n",
    "@task(name=\"world task\")\n",
    "def task2():\n",
    "    print(\"World!!\")\n",
    "\n",
    "\n",
    "@flow(name=\"hello world flow\")\n",
    "def hello_world():\n",
    "    x = task1.submit()\n",
    "    y = task2.submit(wait_for=[x])\n",
    "\n",
    "\n",
    "if __name__ == \"__main__\":\n",
    "    hello_world()"
   ]
  },
  {
   "attachments": {},
   "cell_type": "markdown",
   "metadata": {},
   "source": [
    "# 4. 動的 Flow\n",
    "\n",
    "- タスクの map メソッドを使用して、実行時に上流タスクから渡された値に応じて動的にタスクを生成\n",
    "  - map の引数にリスト(を返すタスクの結果)を渡すと、`リストの各要素ごとにタスクを実行`\n",
    "  - map で実行されるタスクは可能であれば並列実行されるよう\n"
   ]
  },
  {
   "cell_type": "code",
   "execution_count": null,
   "metadata": {},
   "outputs": [],
   "source": [
    "from random import randint\n",
    "from prefect import task, flow\n",
    "\n",
    "\n",
    "@task\n",
    "def random_list():\n",
    "    return [i for i in range(randint(1, 4))]\n",
    "\n",
    "\n",
    "@task\n",
    "def squared(x):\n",
    "    return x**2\n",
    "\n",
    "\n",
    "@task\n",
    "def sum_up(l):\n",
    "    print(f\"Squared results: {l}\")\n",
    "    print(f\"Sum: {sum(l)}\")\n",
    "\n",
    "\n",
    "@flow(name=\"dynamic flow\")\n",
    "def dynamic_flow():\n",
    "    l = random_list()\n",
    "    squared_res = squared.map(l)\n",
    "    sum_res = sum_up(squared_res)\n",
    "    print(f\"squared_res：{squared_res}\")\n",
    "    print(f\"squared_resのタイプ：{type(squared_res)}\")\n",
    "\n",
    "\n",
    "if __name__ == \"__main__\":\n",
    "    dynamic_flow()"
   ]
  },
  {
   "attachments": {},
   "cell_type": "markdown",
   "metadata": {},
   "source": [
    "# 5. 条件分岐\n",
    "\n",
    "- 1 系では、タスク（case、merge、ifelse、switch）は、prefect.tasks.control_flow からインポートして使用していた。\n",
    "- 2 系では、Python ネイティブの if/else 文を使って条件ロジックを指定することができます。\n"
   ]
  },
  {
   "cell_type": "code",
   "execution_count": null,
   "metadata": {},
   "outputs": [],
   "source": [
    "# from random import randint\n",
    "# from prefect import task, Flow\n",
    "# from prefect.tasks.control_flow.conditional import ifelse\n",
    "\n",
    "# @task\n",
    "# def check_even():\n",
    "#     return randint(0, 10) % 2 == 0\n",
    "\n",
    "# @task\n",
    "# def even():\n",
    "#     print(\"It's Even!!\")\n",
    "\n",
    "# @task\n",
    "# def odd():\n",
    "#     print(\"It's Odd!!\")\n",
    "\n",
    "# with Flow(\"IfElseFlow\") as flow:\n",
    "#     cond = check_even()\n",
    "#     result = ifelse(cond, even, odd)\n",
    "\n",
    "# flow.run()"
   ]
  },
  {
   "cell_type": "code",
   "execution_count": null,
   "metadata": {},
   "outputs": [],
   "source": [
    "from random import randint\n",
    "from prefect import task, flow\n",
    "\n",
    "\n",
    "@task\n",
    "def check_even():\n",
    "    return randint(0, 10) % 2 == 0\n",
    "\n",
    "\n",
    "@task\n",
    "def even():\n",
    "    print(\"It's Even!!\")\n",
    "\n",
    "\n",
    "@task\n",
    "def odd():\n",
    "    print(\"It's Odd!!\")\n",
    "\n",
    "\n",
    "@flow\n",
    "def is_else_flow():\n",
    "    cond = check_even.submit()\n",
    "    print(f\"cond: {cond}\")\n",
    "    print(f\"cond.result(): {cond.result()}\")\n",
    "    if cond.result():\n",
    "        even.submit(wait_for=[cond])\n",
    "    else:\n",
    "        odd.submit(wait_for=[cond])\n",
    "\n",
    "\n",
    "if __name__ == \"__main__\":\n",
    "    is_else_flow()"
   ]
  },
  {
   "cell_type": "code",
   "execution_count": null,
   "metadata": {},
   "outputs": [],
   "source": [
    "from random import randint\n",
    "from prefect import task, flow\n",
    "\n",
    "\n",
    "@task\n",
    "def check_even():\n",
    "    return randint(0, 10) % 2 == 0\n",
    "\n",
    "\n",
    "@task\n",
    "def even():\n",
    "    print(\"It's Even!!\")\n",
    "\n",
    "\n",
    "@task\n",
    "def odd():\n",
    "    print(\"It's Odd!!\")\n",
    "\n",
    "\n",
    "@flow\n",
    "def is_else_flow():\n",
    "    cond = check_even()\n",
    "    if cond:\n",
    "        even()\n",
    "    else:\n",
    "        odd()\n",
    "\n",
    "\n",
    "if __name__ == \"__main__\":\n",
    "    is_else_flow()"
   ]
  },
  {
   "attachments": {},
   "cell_type": "markdown",
   "metadata": {},
   "source": [
    "# 6. Flow の成功・失敗の条件\n",
    "\n",
    "- 事前準備 -> 本処理 -> 後片付けのようなフローで、本処理の結果にかかわらず、後片付けをしたいケース\n"
   ]
  },
  {
   "cell_type": "code",
   "execution_count": null,
   "metadata": {},
   "outputs": [],
   "source": [
    "import random\n",
    "from prefect import task, flow\n",
    "\n",
    "\n",
    "@task\n",
    "def do_something_important():\n",
    "    bool_ = random.random() > 0.5\n",
    "    print(f\"Is the number > 0.5? {bool_}\")\n",
    "    if bool_:\n",
    "        raise ValueError(\"Non-deterministic error has occured.\")\n",
    "\n",
    "\n",
    "@task\n",
    "def fail():\n",
    "    print(\"Failure\")\n",
    "\n",
    "\n",
    "@task\n",
    "def succeed():\n",
    "    print(\"Success\")\n",
    "\n",
    "\n",
    "@task\n",
    "def always_run():\n",
    "    print(\"Running regardless of upstream task's state\")\n",
    "\n",
    "\n",
    "@flow(log_prints=True)\n",
    "def main_flow():\n",
    "    a = do_something_important.submit()\n",
    "    # equivalent of all_failed or any_failed trigger in Prefect 1.0:\n",
    "    if a.wait() == \"Failed\":\n",
    "        fail.submit()  # the task is skipped if the condition is not true\n",
    "    # equivalent of all_succesful trigger in Prefect 1.0\n",
    "    else:\n",
    "        succeed.submit()  # the task is skipped on upstream failure\n",
    "\n",
    "    # equivalent of always_run or all_finished trigger in Prefect 1.0:\n",
    "    always_run.submit()\n",
    "\n",
    "\n",
    "if __name__ == \"__main__\":\n",
    "    main_flow()"
   ]
  },
  {
   "cell_type": "markdown",
   "metadata": {},
   "source": [
    "# 7. Task Runner\n",
    "* [参考記事](https://zenn.dev/kiri1701/scraps/5f5d151467f1ee)\n",
    "  * taskに指定した関数を通常実行 -> Task Runnerなし\n",
    "    * taskは逐次実行\n",
    "  * .submit()メソッドを使用 -> taskをTask Runnerに送信して、タスク実行の制御をすることができる\n",
    "    * 逐次実行\n",
    "    * 同時実行\n",
    "    * 並列・分散実行: Dask, Ray"
   ]
  },
  {
   "cell_type": "markdown",
   "metadata": {},
   "source": [
    "# 8. States\n",
    "* flow内のあるtaskがコケたとき、次に実行するflowを実行するときに、最初のタスクから実行されるか、それともコケたタスクから実行されるか"
   ]
  },
  {
   "cell_type": "code",
   "execution_count": 25,
   "metadata": {},
   "outputs": [
    {
     "data": {
      "text/html": [
       "<pre style=\"white-space:pre;overflow-x:auto;line-height:normal;font-family:Menlo,'DejaVu Sans Mono',consolas,'Courier New',monospace\">09:07:08.875 | <span style=\"color: #008080; text-decoration-color: #008080\">INFO</span>    | prefect.engine - Created flow run<span style=\"color: #800080; text-decoration-color: #800080\"> 'interesting-agouti'</span> for flow<span style=\"color: #800080; text-decoration-color: #800080; font-weight: bold\"> 'is-else-flow'</span>\n",
       "</pre>\n"
      ],
      "text/plain": [
       "09:07:08.875 | \u001b[36mINFO\u001b[0m    | prefect.engine - Created flow run\u001b[35m 'interesting-agouti'\u001b[0m for flow\u001b[1;35m 'is-else-flow'\u001b[0m\n"
      ]
     },
     "metadata": {},
     "output_type": "display_data"
    },
    {
     "data": {
      "text/html": [
       "<pre style=\"white-space:pre;overflow-x:auto;line-height:normal;font-family:Menlo,'DejaVu Sans Mono',consolas,'Courier New',monospace\">09:07:08.916 | <span style=\"color: #008080; text-decoration-color: #008080\">INFO</span>    | Flow run<span style=\"color: #800080; text-decoration-color: #800080\"> 'interesting-agouti'</span> - Created task run 'check_even-0' for task 'check_even'\n",
       "</pre>\n"
      ],
      "text/plain": [
       "09:07:08.916 | \u001b[36mINFO\u001b[0m    | Flow run\u001b[35m 'interesting-agouti'\u001b[0m - Created task run 'check_even-0' for task 'check_even'\n"
      ]
     },
     "metadata": {},
     "output_type": "display_data"
    },
    {
     "data": {
      "text/html": [
       "<pre style=\"white-space:pre;overflow-x:auto;line-height:normal;font-family:Menlo,'DejaVu Sans Mono',consolas,'Courier New',monospace\">09:07:08.917 | <span style=\"color: #008080; text-decoration-color: #008080\">INFO</span>    | Flow run<span style=\"color: #800080; text-decoration-color: #800080\"> 'interesting-agouti'</span> - Submitted task run 'check_even-0' for execution.\n",
       "</pre>\n"
      ],
      "text/plain": [
       "09:07:08.917 | \u001b[36mINFO\u001b[0m    | Flow run\u001b[35m 'interesting-agouti'\u001b[0m - Submitted task run 'check_even-0' for execution.\n"
      ]
     },
     "metadata": {},
     "output_type": "display_data"
    },
    {
     "name": "stdout",
     "output_type": "stream",
     "text": [
      "2024-08-30 09:07:08.942374\n",
      "最初のタスクが終了しました\n"
     ]
    },
    {
     "data": {
      "text/html": [
       "<pre style=\"white-space:pre;overflow-x:auto;line-height:normal;font-family:Menlo,'DejaVu Sans Mono',consolas,'Courier New',monospace\">09:07:10.502 | <span style=\"color: #008080; text-decoration-color: #008080\">INFO</span>    | Task run 'check_even-0' - Finished in state <span style=\"color: #008000; text-decoration-color: #008000\">Completed</span>()\n",
       "</pre>\n"
      ],
      "text/plain": [
       "09:07:10.502 | \u001b[36mINFO\u001b[0m    | Task run 'check_even-0' - Finished in state \u001b[32mCompleted\u001b[0m()\n"
      ]
     },
     "metadata": {},
     "output_type": "display_data"
    },
    {
     "data": {
      "text/html": [
       "<pre style=\"white-space:pre;overflow-x:auto;line-height:normal;font-family:Menlo,'DejaVu Sans Mono',consolas,'Courier New',monospace\">09:07:10.524 | <span style=\"color: #008080; text-decoration-color: #008080\">INFO</span>    | Flow run<span style=\"color: #800080; text-decoration-color: #800080\"> 'interesting-agouti'</span> - Created task run 'odd-0' for task 'odd'\n",
       "</pre>\n"
      ],
      "text/plain": [
       "09:07:10.524 | \u001b[36mINFO\u001b[0m    | Flow run\u001b[35m 'interesting-agouti'\u001b[0m - Created task run 'odd-0' for task 'odd'\n"
      ]
     },
     "metadata": {},
     "output_type": "display_data"
    },
    {
     "data": {
      "text/html": [
       "<pre style=\"white-space:pre;overflow-x:auto;line-height:normal;font-family:Menlo,'DejaVu Sans Mono',consolas,'Courier New',monospace\">09:07:10.525 | <span style=\"color: #008080; text-decoration-color: #008080\">INFO</span>    | Flow run<span style=\"color: #800080; text-decoration-color: #800080\"> 'interesting-agouti'</span> - Submitted task run 'odd-0' for execution.\n",
       "</pre>\n"
      ],
      "text/plain": [
       "09:07:10.525 | \u001b[36mINFO\u001b[0m    | Flow run\u001b[35m 'interesting-agouti'\u001b[0m - Submitted task run 'odd-0' for execution.\n"
      ]
     },
     "metadata": {},
     "output_type": "display_data"
    },
    {
     "name": "stdout",
     "output_type": "stream",
     "text": [
      "It's Odd!!\n"
     ]
    },
    {
     "data": {
      "text/html": [
       "<pre style=\"white-space:pre;overflow-x:auto;line-height:normal;font-family:Menlo,'DejaVu Sans Mono',consolas,'Courier New',monospace\">09:07:10.565 | <span style=\"color: #008080; text-decoration-color: #008080\">INFO</span>    | Task run 'odd-0' - Finished in state <span style=\"color: #008000; text-decoration-color: #008000\">Completed</span>()\n",
       "</pre>\n"
      ],
      "text/plain": [
       "09:07:10.565 | \u001b[36mINFO\u001b[0m    | Task run 'odd-0' - Finished in state \u001b[32mCompleted\u001b[0m()\n"
      ]
     },
     "metadata": {},
     "output_type": "display_data"
    },
    {
     "data": {
      "text/html": [
       "<pre style=\"white-space:pre;overflow-x:auto;line-height:normal;font-family:Menlo,'DejaVu Sans Mono',consolas,'Courier New',monospace\">09:07:10.580 | <span style=\"color: #008080; text-decoration-color: #008080\">INFO</span>    | Flow run<span style=\"color: #800080; text-decoration-color: #800080\"> 'interesting-agouti'</span> - Finished in state <span style=\"color: #008000; text-decoration-color: #008000\">Completed</span>('All states completed.')\n",
       "</pre>\n"
      ],
      "text/plain": [
       "09:07:10.580 | \u001b[36mINFO\u001b[0m    | Flow run\u001b[35m 'interesting-agouti'\u001b[0m - Finished in state \u001b[32mCompleted\u001b[0m('All states completed.')\n"
      ]
     },
     "metadata": {},
     "output_type": "display_data"
    }
   ],
   "source": [
    "import datetime\n",
    "from random import randint\n",
    "from prefect import task, flow\n",
    "\n",
    "\n",
    "@task(refresh_cache=False)\n",
    "def check_even():\n",
    "    print(datetime.datetime.now())\n",
    "    # return randint(0, 10) % 2 == 0\n",
    "    try:\n",
    "        x = 1 / int(input())\n",
    "    except ZeroDivisionError:\n",
    "        print(\"ゼロで割ることはできません。タスクは失敗しました。\")\n",
    "    finally:\n",
    "        print(\"最初のタスクが終了しました\")\n",
    "\n",
    "\n",
    "@task\n",
    "def even():\n",
    "    print(\"It's Even!!\")\n",
    "\n",
    "\n",
    "@task\n",
    "def odd():\n",
    "    print(\"It's Odd!!\")\n",
    "\n",
    "\n",
    "@flow\n",
    "def is_else_flow():\n",
    "    cond = check_even.submit()\n",
    "    # print(f\"cond: {cond}\")\n",
    "    # print(f\"cond.result(): {cond.result()}\")\n",
    "    if cond.result():\n",
    "        even.submit(wait_for=[cond])\n",
    "    else:\n",
    "        odd.submit(wait_for=[cond])\n",
    "\n",
    "\n",
    "if __name__ == \"__main__\":\n",
    "    is_else_flow()"
   ]
  },
  {
   "cell_type": "code",
   "execution_count": null,
   "metadata": {},
   "outputs": [],
   "source": []
  }
 ],
 "metadata": {
  "kernelspec": {
   "display_name": "venv",
   "language": "python",
   "name": "python3"
  },
  "language_info": {
   "codemirror_mode": {
    "name": "ipython",
    "version": 3
   },
   "file_extension": ".py",
   "mimetype": "text/x-python",
   "name": "python",
   "nbconvert_exporter": "python",
   "pygments_lexer": "ipython3",
   "version": "3.11.6"
  },
  "orig_nbformat": 4
 },
 "nbformat": 4,
 "nbformat_minor": 2
}
